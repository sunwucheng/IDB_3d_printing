{
 "cells": [
  {
   "cell_type": "markdown",
   "id": "03baff34-09ea-48ce-904e-aa658d4483f7",
   "metadata": {},
   "source": [
    "## Import packages"
   ]
  },
  {
   "cell_type": "code",
   "execution_count": 1,
   "id": "9c24c5a7-8e77-4010-9799-eb4341d95b43",
   "metadata": {},
   "outputs": [
    {
     "name": "stdout",
     "output_type": "stream",
     "text": [
      "Mon Nov 20 12:45:11 2023       \n",
      "+-----------------------------------------------------------------------------+\n",
      "| NVIDIA-SMI 525.105.17   Driver Version: 525.105.17   CUDA Version: 12.0     |\n",
      "|-------------------------------+----------------------+----------------------+\n",
      "| GPU  Name        Persistence-M| Bus-Id        Disp.A | Volatile Uncorr. ECC |\n",
      "| Fan  Temp  Perf  Pwr:Usage/Cap|         Memory-Usage | GPU-Util  Compute M. |\n",
      "|                               |                      |               MIG M. |\n",
      "|===============================+======================+======================|\n",
      "|   0  NVIDIA GeForce ...  On   | 00000000:17:00.0 Off |                  Off |\n",
      "| 30%   27C    P8    19W / 450W |      2MiB / 24564MiB |      0%      Default |\n",
      "|                               |                      |                  N/A |\n",
      "+-------------------------------+----------------------+----------------------+\n",
      "                                                                               \n",
      "+-----------------------------------------------------------------------------+\n",
      "| Processes:                                                                  |\n",
      "|  GPU   GI   CI        PID   Type   Process name                  GPU Memory |\n",
      "|        ID   ID                                                   Usage      |\n",
      "|=============================================================================|\n",
      "|  No running processes found                                                 |\n",
      "+-----------------------------------------------------------------------------+\n"
     ]
    }
   ],
   "source": [
    "import os\n",
    "\n",
    "!nvidia-smi\n",
    "\n",
    "HOST_path = \"/root\"\n",
    "PROJECT_path = os.path.join(HOST_path, \"IDB_3d_printing\")\n",
    "SETS_path = os.path.join(PROJECT_path, 'datasets')\n",
    "SAVE_path = os.path.join(PROJECT_path, 'outputs')\n",
    "\n",
    "if not os.path.isdir(SETS_path):\n",
    "  os.makedirs(SETS_path)\n",
    "\n",
    "if not os.path.isdir(SAVE_path):\n",
    "  os.makedirs(SAVE_path)"
   ]
  },
  {
   "cell_type": "markdown",
   "id": "c59b0063-545e-4ae4-9018-354b42e826e2",
   "metadata": {},
   "source": [
    "## Load datasets"
   ]
  },
  {
   "cell_type": "code",
   "execution_count": 2,
   "id": "895e16e3-482c-4f03-a011-d5c3500ac6db",
   "metadata": {},
   "outputs": [],
   "source": [
    "import numpy as np\n",
    "from tqdm import tqdm\n",
    "from PIL import Image"
   ]
  },
  {
   "cell_type": "code",
   "execution_count": 3,
   "id": "296bd09a-6949-4d00-aa2c-50143806708e",
   "metadata": {},
   "outputs": [],
   "source": [
    "def load_dataset(dataset_path):\n",
    "  image_list = []\n",
    "  label_list = []\n",
    "  class_list = []\n",
    "  image_num = 0\n",
    "  tag = 0\n",
    "  n = 0\n",
    "  category_names = os.listdir(dataset_path)\n",
    "  category_num = len(category_names)\n",
    "  category_names.sort()\n",
    "  for category in category_names:\n",
    "    n += 1\n",
    "    if n<10:\n",
    "      class_n = \"(0\"+str(n)+\")\"\n",
    "    else:\n",
    "      class_n = \"(\"+str(n)+\")\"\n",
    "    class_list.append(class_n)\n",
    "    category_path = os.path.join(dataset_path, category)\n",
    "    file_names = os.listdir(category_path)\n",
    "    file_nums = len(file_names)\n",
    "    file_names.sort()\n",
    "    print(\"class No. \"+class_n+\"; category: \"+str(category)+\"; image num: \", file_nums, end=\" \")\n",
    "    image_num += file_nums\n",
    "    for file in tqdm(file_names):\n",
    "      file_path = os.path.join(category_path, file)\n",
    "      image = Image.open(file_path)\n",
    "      img = np.asarray(image,dtype=\"float32\")\n",
    "\n",
    "      #chose wheather to crop the images, e.g., 1024*1024\n",
    "      img = img[0:1024, 0:1024]\n",
    "      \n",
    "      img = img[:, :, np.newaxis] \n",
    "      image_list.append(img)\n",
    "      label_list.append(tag)\n",
    "    tag += 1\n",
    "  return image_list, label_list, category_num, class_list, image_num"
   ]
  },
  {
   "cell_type": "code",
   "execution_count": 4,
   "id": "efa92b84-e65f-4da1-8dd6-3a6db4973ae4",
   "metadata": {},
   "outputs": [
    {
     "name": "stdout",
     "output_type": "stream",
     "text": [
      "class No. (01); category: #21-0; image num:  120 "
     ]
    },
    {
     "name": "stderr",
     "output_type": "stream",
     "text": [
      "100%|██████████| 120/120 [00:00<00:00, 204.32it/s]\n"
     ]
    },
    {
     "name": "stdout",
     "output_type": "stream",
     "text": [
      "class No. (02); category: #21-1; image num:  87 "
     ]
    },
    {
     "name": "stderr",
     "output_type": "stream",
     "text": [
      "100%|██████████| 87/87 [00:00<00:00, 228.34it/s]"
     ]
    },
    {
     "name": "stdout",
     "output_type": "stream",
     "text": [
      "class num =  2\n",
      "class list:  ['(01)', '(02)']\n",
      "SEM image num =  207\n"
     ]
    },
    {
     "name": "stderr",
     "output_type": "stream",
     "text": [
      "\n"
     ]
    }
   ],
   "source": [
    "X_set, Y_set, CLASS_num, CLASS_list, IMG_num = load_dataset(os.path.join(SETS_path, 'IMAGE'))\n",
    "print(\"class num = \", CLASS_num)\n",
    "print(\"class list: \", CLASS_list)\n",
    "print(\"SEM image num = \", IMG_num)"
   ]
  },
  {
   "cell_type": "markdown",
   "id": "c1c65c4d-91c1-4a26-bf29-9105ba3cd9af",
   "metadata": {},
   "source": [
    "## Classification"
   ]
  },
  {
   "cell_type": "markdown",
   "id": "6a3d1142-543c-43f2-94ad-218d0b625b3b",
   "metadata": {},
   "source": [
    "### Dataset processing"
   ]
  },
  {
   "cell_type": "code",
   "execution_count": 5,
   "id": "74d9ee66-ba66-43e9-882a-2f71d6d38109",
   "metadata": {},
   "outputs": [
    {
     "name": "stderr",
     "output_type": "stream",
     "text": [
      "2023-11-20 12:45:13.070115: I tensorflow/core/util/util.cc:169] oneDNN custom operations are on. You may see slightly different numerical results due to floating-point round-off errors from different computation orders. To turn them off, set the environment variable `TF_ENABLE_ONEDNN_OPTS=0`.\n"
     ]
    }
   ],
   "source": [
    "import cv2\n",
    "import numpy as np\n",
    "import tensorflow as tf\n",
    "from sklearn.model_selection import train_test_split"
   ]
  },
  {
   "cell_type": "code",
   "execution_count": 6,
   "id": "ae628702-55bf-4641-84ce-d50f6712b248",
   "metadata": {},
   "outputs": [],
   "source": [
    "def classification_dataset_process(X_set, Y_set):\n",
    "\n",
    "    X_set = [cv2.cvtColor(cv2.resize(i, (224, 224)), cv2.COLOR_GRAY2RGB) for i in X_set]\n",
    "    X_set = np.asarray(X_set)\n",
    "    X_set = X_set.astype('float32')\n",
    "    X_set /= 255.0\n",
    "    Y_set = tf.keras.utils.to_categorical(Y_set, CLASS_num)\n",
    "    return X_set, Y_set\n",
    "\n",
    "X_set, Y_set = classification_dataset_process(X_set, Y_set)"
   ]
  },
  {
   "cell_type": "code",
   "execution_count": 7,
   "id": "69fa8cf6-86c9-4f27-827e-441957c17486",
   "metadata": {},
   "outputs": [
    {
     "name": "stdout",
     "output_type": "stream",
     "text": [
      "(165, 224, 224, 3)\n",
      "(165, 2)\n",
      "(42, 224, 224, 3)\n",
      "(42, 2)\n"
     ]
    }
   ],
   "source": [
    "X_train, X_test, Y_train, Y_test = train_test_split(X_set, Y_set, test_size = 0.2, random_state = 42)\n",
    "\n",
    "print(X_train.shape)\n",
    "print(Y_train.shape)\n",
    "print(X_test.shape)\n",
    "print(Y_test.shape)"
   ]
  },
  {
   "cell_type": "code",
   "execution_count": 8,
   "id": "448cef07-eee6-4852-8119-9121e00c2ca1",
   "metadata": {},
   "outputs": [],
   "source": [
    "# del X_set, Y_set, X_set_cnn, Y_set_cnn\n",
    "# gc.collect()"
   ]
  },
  {
   "cell_type": "code",
   "execution_count": 9,
   "id": "286a59ae-6037-4c4e-913c-7ad9926381d6",
   "metadata": {},
   "outputs": [
    {
     "data": {
      "text/plain": [
       "<matplotlib.image.AxesImage at 0x7f5dc14204c0>"
      ]
     },
     "execution_count": 9,
     "metadata": {},
     "output_type": "execute_result"
    },
    {
     "data": {
      "image/png": "[encoded data removed]",
      "text/plain": [
       "<Figure size 432x288 with 1 Axes>"
      ]
     },
     "metadata": {
      "needs_background": "light"
     },
     "output_type": "display_data"
    }
   ],
   "source": [
    "import matplotlib.pyplot as plt  \n",
    "plt.imshow(X_train[0])"
   ]
  },
  {
   "cell_type": "markdown",
   "id": "3596441c-397f-4cbd-aabc-45b58694160b",
   "metadata": {
    "jp-MarkdownHeadingCollapsed": true,
    "tags": []
   },
   "source": [
    "### Build CNN model"
   ]
  },
  {
   "cell_type": "code",
   "execution_count": null,
   "id": "d91fe56c-4c1f-45d2-8579-dd31e63402db",
   "metadata": {},
   "outputs": [],
   "source": [
    "# from keras.layers import Conv2D, MaxPooling2D, Flatten, Dense, Activation\n",
    "# from keras.models import Sequential, Model\n",
    "\n",
    "# model = Sequential()\n",
    "\n",
    "# # Block_1\n",
    "# model.add(Conv2D(64, (3, 3), padding = 'same', activation='relu', input_shape=X_train.shape[1:]))\n",
    "# model.add(Conv2D(64, (3, 3), padding = 'same', activation='relu'))\n",
    "# model.add(MaxPooling2D((2, 2), strides=(2, 2)))\n",
    "\n",
    "# # Block_2\n",
    "# model.add(Conv2D(128, (3, 3), padding = 'same', activation='relu'))\n",
    "# model.add(Conv2D(128, (3, 3), padding = 'same', activation='relu'))\n",
    "# model.add(MaxPooling2D((2, 2), strides=(2, 2)))\n",
    "\n",
    "# # Block_3\n",
    "# model.add(Conv2D(256, (3, 3), padding = 'same', activation='relu'))\n",
    "# model.add(Conv2D(256, (3, 3), padding = 'same', activation='relu'))\n",
    "# model.add(Conv2D(256, (3, 3), padding = 'same', activation='relu'))\n",
    "# model.add(MaxPooling2D((2, 2), strides=(2, 2)))\n",
    "\n",
    "# # Block_4\n",
    "# model.add(Conv2D(512, (3, 3), padding = 'same', activation='relu'))\n",
    "# model.add(Conv2D(512, (3, 3), padding = 'same', activation='relu'))\n",
    "# model.add(Conv2D(512, (3, 3), padding = 'same', activation='relu'))\n",
    "# model.add(MaxPooling2D((2, 2), strides=(2, 2)))\n",
    "\n",
    "# # Block_5\n",
    "# model.add(Conv2D(512, (3, 3), padding = 'same', activation='relu'))\n",
    "# model.add(Conv2D(512, (3, 3), padding = 'same', activation='relu'))\n",
    "# model.add(Conv2D(512, (3, 3), padding = 'same', activation='relu'))\n",
    "# model.add(MaxPooling2D((2, 2), strides=(2, 2)))\n",
    "\n",
    "# # Block_6\n",
    "# model.add(Flatten())\n",
    "# model.add(Dense(256, activation='relu'))\n",
    "# model.add(Dense(CLASS_num, activation='softmax'))\n",
    "\n",
    "# model.summary()"
   ]
  },
  {
   "cell_type": "code",
   "execution_count": null,
   "id": "c65bbb72-6d1e-4e9d-91c2-ffe44aa1d95c",
   "metadata": {},
   "outputs": [],
   "source": [
    "from keras import applications\n",
    "from keras.layers import Flatten, Dense, Dropout, Activation\n",
    "from keras.models import Sequential, Model\n",
    "\n",
    "base_model = applications.vgg16.VGG16(include_top=False, weights='imagenet', input_shape=X_train.shape[1:])\n",
    "print(base_model.output)\n",
    "model = Sequential()\n",
    "model.add(Flatten(input_shape=base_model.output_shape[1:]))\n",
    "model.add(Dense(256, activation='relu'))\n",
    "# model.add(Dropout(0.5))\n",
    "model.add(Dense(CLASS_num, activation='softmax'))\n",
    "\n",
    "model = Model(inputs=base_model.input, outputs=model(base_model.output))\n",
    "model.summary()"
   ]
  },
  {
   "cell_type": "markdown",
   "id": "fd42888f-a7c6-4ed9-a299-443b26193d2d",
   "metadata": {
    "jp-MarkdownHeadingCollapsed": true,
    "tags": []
   },
   "source": [
    "### Compiling & Training"
   ]
  },
  {
   "cell_type": "code",
   "execution_count": null,
   "id": "0a77da56-549d-4ced-9b0a-2fc4907d4747",
   "metadata": {},
   "outputs": [],
   "source": [
    "import keras\n",
    "from keras.callbacks import ModelCheckpoint, EarlyStopping\n",
    "from keras.models import Model\n",
    "from keras.preprocessing.image import ImageDataGenerator"
   ]
  },
  {
   "cell_type": "code",
   "execution_count": null,
   "id": "de2d5252-83ba-4a00-9a88-7910152b3f9f",
   "metadata": {},
   "outputs": [],
   "source": [
    "model.compile(optimizer=tf.keras.optimizers.RMSprop(learning_rate=0.0001, decay=1e-6),                \n",
    "              loss='binary_crossentropy', \n",
    "              metrics=['accuracy',\n",
    "                       keras.metrics.AUC(),\n",
    "                       keras.metrics.Precision(),\n",
    "                       keras.metrics.Recall()])\n",
    "\n",
    "callbacks = [\n",
    "             keras.callbacks.ModelCheckpoint(os.path.join(SAVE_path, \"best_model.hdf5\"),\n",
    "                                             monitor=\"val_loss\",\n",
    "                                             mode=\"min\",\n",
    "                                             verbose = 1,\n",
    "                                             save_best_only=True),\n",
    "             # keras.callbacks.EarlyStopping(monitor=\"val_loss\",\n",
    "             #                               mode=\"min\",\n",
    "             #                               verbose=1,\n",
    "             #                               patience=10,\n",
    "             #                               restore_best_weights=True), \n",
    "             keras.callbacks.ReduceLROnPlateau(monitor=\"val_loss\",\n",
    "                                               factor=0.2,\n",
    "                                               patience=2,\n",
    "                                               min_lr=0.000001),\n",
    "             # keras.callbacks.TensorBoard(log_dir=os.path.join(SAVE_path, \"logs\"),\n",
    "             #                             histogram_freq=1,\n",
    "             #                             write_graph=True,\n",
    "             #                             write_images=True),\n",
    "            ]\n",
    "\n",
    "history = model.fit(X_train, Y_train,\n",
    "                    # validation_split=0.2,\n",
    "                    validation_data=(X_test, Y_test),\n",
    "                    epochs=100, \n",
    "                    batch_size=10, \n",
    "                    callbacks=callbacks, \n",
    "                    shuffle=True)"
   ]
  },
  {
   "cell_type": "code",
   "execution_count": null,
   "id": "3a36d8c3-6166-4d39-9f99-a28dae3e4f65",
   "metadata": {},
   "outputs": [],
   "source": [
    "model_path = os.path.join(SAVE_path, \"model.hdf5\")\n",
    "model.save(model_path)"
   ]
  },
  {
   "cell_type": "markdown",
   "id": "aa1b1678-388e-47c3-9ef7-89623206a54e",
   "metadata": {
    "jp-MarkdownHeadingCollapsed": true,
    "tags": []
   },
   "source": [
    "### Training curve"
   ]
  },
  {
   "cell_type": "code",
   "execution_count": null,
   "id": "510399e0-76ad-4521-b1d6-287ac40dacdb",
   "metadata": {},
   "outputs": [],
   "source": [
    "# Plot Accuracy-Epoch_default\n",
    "plt.plot(history.history['accuracy'])\n",
    "plt.plot(history.history['val_accuracy'])\n",
    "plt.title('Model Accuracy')\n",
    "plt.ylabel('Accuracy')\n",
    "plt.xlabel('Epoch')\n",
    "plt.legend(['Train set', 'Validation set'], loc='lower right')\n",
    "plt.savefig(os.path.join(SAVE_path, 'model_accuracy_default.png'), dpi=300, bbox_inches='tight', transparent=True)\n",
    "plt.show()"
   ]
  },
  {
   "cell_type": "code",
   "execution_count": null,
   "id": "6486e878-4dde-4fee-8809-3d05e5121cb5",
   "metadata": {},
   "outputs": [],
   "source": [
    "# Plot Accuracy-Epoch \n",
    "plt.plot(history.history['accuracy'])\n",
    "plt.plot(history.history['val_accuracy'])\n",
    "plt.title('Model Accuracy')\n",
    "plt.ylabel('Accuracy')\n",
    "plt.xlabel('Epoch')\n",
    "plt.legend(['Train set', 'Validation set'], loc='lower right')\n",
    "plt.ylim(0,1)\n",
    "plt.savefig(os.path.join(SAVE_path, 'model_accuracy.png'), dpi=300, bbox_inches='tight', transparent=True)\n",
    "plt.show()"
   ]
  },
  {
   "cell_type": "code",
   "execution_count": null,
   "id": "339b09c0-8564-48be-a2d1-10de69ce911e",
   "metadata": {},
   "outputs": [],
   "source": [
    "# Plot Loss-Epoch_default\n",
    "plt.plot(history.history['loss'])\n",
    "plt.plot(history.history['val_loss'])\n",
    "plt.title('Model Loss')\n",
    "plt.ylabel('Loss')\n",
    "plt.xlabel('Epoch')\n",
    "plt.legend(['Train set', 'Validation set'], loc='upper right')\n",
    "plt.savefig(os.path.join(SAVE_path, 'model_loss_default.png'), dpi=300, bbox_inches='tight', transparent=True)\n",
    "plt.show()"
   ]
  },
  {
   "cell_type": "markdown",
   "id": "4e72e5de-b710-4a64-b5d7-314022951400",
   "metadata": {
    "jp-MarkdownHeadingCollapsed": true,
    "tags": []
   },
   "source": [
    "### Model predict"
   ]
  },
  {
   "cell_type": "code",
   "execution_count": null,
   "id": "b1343914-139c-49e7-bb9e-4f90c58bd0bb",
   "metadata": {},
   "outputs": [],
   "source": [
    "import seaborn as sns\n",
    "from sklearn.metrics import confusion_matrix"
   ]
  },
  {
   "cell_type": "code",
   "execution_count": null,
   "id": "abd9771d-a78d-4420-a3fe-1c81c4d275f9",
   "metadata": {},
   "outputs": [],
   "source": [
    "Y_pred = model.predict(X_test)\n",
    "print(Y_test.shape)\n",
    "print(Y_pred.shape)\n",
    "\n",
    "Y_test_true = np.argmax(Y_test, axis=1)  \n",
    "Y_test_pred = np.argmax(Y_pred, axis=1) \n",
    "print(Y_test_true)\n",
    "print(Y_test_pred)\n",
    "\n",
    "cm = confusion_matrix(Y_test_true, Y_test_pred)   \n",
    "plt.figure(figsize=(10,7))  \n",
    "sns.heatmap(cm, annot=True, fmt='d', cmap='Blues')  \n",
    "plt.xlabel('Predicted')  \n",
    "plt.ylabel('True')  \n",
    "plt.show()"
   ]
  },
  {
   "cell_type": "markdown",
   "id": "894e847e-8352-44c2-9fee-ed13403c22c7",
   "metadata": {
    "jp-MarkdownHeadingCollapsed": true,
    "tags": []
   },
   "source": [
    "### Layer visualization"
   ]
  },
  {
   "cell_type": "code",
   "execution_count": null,
   "id": "59abfbf1-9a88-4d66-b9f3-93550475b071",
   "metadata": {},
   "outputs": [],
   "source": [
    "visual_folder = os.path.join(SAVE_path, \"classification_model_visual\")\n",
    "visual_plot_folder = os.path.join(SAVE_path, \"classification_model_visual_plot\")\n",
    "\n",
    "if not os.path.isdir(visual_folder):\n",
    "  os.makedirs(visual_folder)\n",
    "\n",
    "if not os.path.isdir(visual_plot_folder):\n",
    "  os.makedirs(visual_plot_folder)"
   ]
  },
  {
   "cell_type": "code",
   "execution_count": null,
   "id": "510a3a63-cf18-45cd-a9ff-3cc4db936f91",
   "metadata": {},
   "outputs": [],
   "source": [
    "# def visual(model, data, num_layer):\n",
    "#   data = np.expand_dims(data, axis=0) \n",
    "#   layer = keras.backend.function([model.layers[0].input], [model.layers[num_layer].output])\n",
    "#   f1 = layer([data])[0]\n",
    "#   num = f1.shape[-1]\n",
    "#   plt.figure(figsize=(8, 8))\n",
    "#   print(\"saving images in layer_\"+str(num_layer)+\" ...\")\n",
    "#   for i in range(num):\n",
    "#     plt.subplot(np.ceil(np.sqrt(num)), np.ceil(np.sqrt(num)), i+1)\n",
    "#     layer_img = f1[0, :, :, i] * 255\n",
    "#     plt.imshow(layer_img, cmap='gray')\n",
    "#     plt.axis('off')\n",
    "#     visual_single_name = \"layer_\"+str(num_layer)+\"_img_\"+str(i)+\".png\"\n",
    "#     layer_single_path = os.path.join(visual_folder, visual_single_name)\n",
    "#     cv2.imwrite(layer_single_path, layer_img)\n",
    "#   layer_all_name = \"layer_\"+str(num_layer)+\".png\"\n",
    "#   layer_all_path = os.path.join(visual_plot_folder, layer_all_name)\n",
    "#   plt.savefig(layer_all_path, dpi=300)\n",
    "#   plt.show()"
   ]
  },
  {
   "cell_type": "code",
   "execution_count": null,
   "id": "0db206e9-d381-433b-9bf9-4934541383a3",
   "metadata": {},
   "outputs": [],
   "source": [
    "import math  \n",
    "  \n",
    "def visual(model, data, num_layer):  \n",
    "  data = np.expand_dims(data, axis=0)   \n",
    "  layer = keras.backend.function([model.layers[0].input], [model.layers[num_layer].output])  \n",
    "  f1 = layer([data])[0]  \n",
    "  num = f1.shape[-1]  \n",
    "  plt.figure(figsize=(8, 8))  \n",
    "  print(\"saving images in layer_\"+str(num_layer)+\" ...\")  \n",
    "  for i in range(num):  \n",
    "    plt.subplot(math.ceil(math.sqrt(num)), math.ceil(math.sqrt(num)), i+1)  \n",
    "    layer_img = f1[0, :, :, i] * 255  \n",
    "    plt.imshow(layer_img, cmap='gray')  \n",
    "    plt.axis('off')  \n",
    "    visual_single_name = \"layer_\"+str(num_layer)+\"_img_\"+str(i)+\".png\"  \n",
    "    layer_single_path = os.path.join(visual_folder, visual_single_name)  \n",
    "    cv2.imwrite(layer_single_path, layer_img)  \n",
    "  layer_all_name = \"layer_\"+str(num_layer)+\".png\"  \n",
    "  layer_all_path = os.path.join(visual_plot_folder, layer_all_name)  \n",
    "  plt.savefig(layer_all_path, dpi=300)  \n",
    "  plt.show()  "
   ]
  },
  {
   "cell_type": "code",
   "execution_count": null,
   "id": "9b393bb1-468c-42fd-87eb-4b611476d5eb",
   "metadata": {},
   "outputs": [],
   "source": [
    "for i in range(19): \n",
    "  visual(model, X_test[0], i)\n",
    "print(\"All layer images saved!\")"
   ]
  },
  {
   "cell_type": "markdown",
   "id": "a06402c1-e272-478b-a59e-6704a18bd4d4",
   "metadata": {},
   "source": [
    "### Grad CAM"
   ]
  },
  {
   "cell_type": "code",
   "execution_count": 24,
   "id": "8578fd27-37d1-4d3b-b13b-3bfc8f19887b",
   "metadata": {},
   "outputs": [],
   "source": [
    "import os\n",
    "import cv2\n",
    "import heapq\n",
    "import keras\n",
    "import tensorflow as tf\n",
    "import numpy as np\n",
    "import tensorflow.keras.backend as K\n",
    "from tensorflow.keras.applications.vgg16 import (VGG16, preprocess_input, decode_predictions)\n",
    "from tensorflow.keras.models import load_model, Sequential\n",
    "from tensorflow.keras.preprocessing import image\n",
    "from tensorflow.python.framework import ops\n",
    "tf.compat.v1.disable_eager_execution()"
   ]
  },
  {
   "cell_type": "code",
   "execution_count": 32,
   "id": "f831ab47-cc4a-4f49-8f1e-0083d0441325",
   "metadata": {},
   "outputs": [],
   "source": [
    "def register_gradient():\n",
    "    if \"GuidedBackProp\" not in ops._gradient_registry._registry:\n",
    "        @ops.RegisterGradient(\"GuidedBackProp\")\n",
    "        def _GuidedBackProp(op, grad):\n",
    "            dtype = op.inputs[0].dtype\n",
    "            return grad * tf.cast(grad > 0., dtype) * tf.cast(op.inputs[0] > 0., dtype)\n",
    "\n",
    "def compile_saliency_function(model, activation_layer='block5_conv3'):\n",
    "    input_img = model.input\n",
    "    layer_dict = dict([(layer.name, layer) for layer in model.layers[1:]])\n",
    "    layer_output = layer_dict[activation_layer].output\n",
    "    max_output = K.max(layer_output, axis=3)\n",
    "    saliency = K.gradients(K.sum(max_output), input_img)[0]\n",
    "    return K.function([input_img, K.learning_phase()], [saliency])\n",
    "\n",
    "def modify_backprop(model, name):\n",
    "    g = tf.compat.v1.get_default_graph()\n",
    "    with g.gradient_override_map({'Relu': name}):\n",
    "        layer_dict = [layer for layer in model.layers[1:]\n",
    "                      if hasattr(layer, 'activation')]\n",
    "        for layer in layer_dict:\n",
    "            if layer.activation == keras.activations.relu:\n",
    "                layer.activation = tf.nn.relu\n",
    "        new_model = load_model(model_path)\n",
    "    return new_model\n",
    "\n",
    "def deprocess_image(x):\n",
    "    '''\n",
    "    Same normalization as in:\n",
    "    https://github.com/fchollet/keras/blob/master/examples/conv_filter_visualization.py\n",
    "    '''\n",
    "    if np.ndim(x) > 3:\n",
    "        x = np.squeeze(x)\n",
    "    x -= x.mean()\n",
    "    x /= (x.std() + 1e-5)\n",
    "    x *= 0.1\n",
    "    x += 0.5\n",
    "    x = np.clip(x, 0, 1)\n",
    "    x *= 255\n",
    "    if K.image_data_format() == 'channels_first':\n",
    "        x = x.transpose((1, 2, 0))\n",
    "    x = np.clip(x, 0, 255).astype('uint8')\n",
    "    return x\n",
    "\n",
    "def _compute_gradients(tensor, var_list):\n",
    "    with tf.GradientTape() as gtape:\n",
    "        grads = gtape.gradient(tensor, var_list)\n",
    "        return [grad if grad is not None else tf.zeros_like(var) for var, grad in zip(var_list, grads)]\n",
    "\n",
    "def load_image(path):\n",
    "    img_path = path\n",
    "    img = cv2.imread(img_path)\n",
    "    img = img[0:1024][0:1024]\n",
    "    img= cv2.resize(img,(224,224),interpolation=cv2.INTER_NEAREST)\n",
    "    x = img\n",
    "    x = np.expand_dims(x, axis=0)\n",
    "    x = preprocess_input(x)\n",
    "    return x\n",
    "\n",
    "def doCAM(image_path, image_code, dirs1):\n",
    "    preprocessed_input = load_image(image_path)\n",
    "    register_gradient()\n",
    "    guided_model = modify_backprop(model, 'GuidedBackProp')\n",
    "    saliency_fn = compile_saliency_function(guided_model)\n",
    "    saliency = saliency_fn([preprocessed_input, 0])\n",
    "    gradcam = saliency[0].transpose(1, 2, 3, 0)\n",
    "    a = np.squeeze(gradcam)\n",
    "    plt.imshow(deprocess_image(a))\n",
    "    cv2.imwrite(dirs1+\"/Guided_BP_\"+image_code+\".jpg\", deprocess_image(a))\n",
    "    pred = model.predict(preprocessed_input)\n",
    "    print(np.argmax(pred))\n",
    "    # top1_idx, top2_idx, top3_idx= heapq.nlargest(3, range(len(pred[0])), pred[0].take)\n",
    "    top1_idx, top2_idx = heapq.nlargest(2, range(len(pred[0])), pred[0].take)\n",
    "    class_output = model.output[:, top1_idx]\n",
    "    last_conv_layer = model.get_layer(\"block5_pool\")\n",
    "    grads = K.gradients(class_output, last_conv_layer.output)[0]\n",
    "    pooled_grads = K.mean(grads, axis=(0, 1, 2))\n",
    "    iterate = K.function([model.input], [pooled_grads, last_conv_layer.output[0]])\n",
    "    pooled_grads_value, conv_layer_output_value = iterate([preprocessed_input])\n",
    "    for i in range(512):\n",
    "        conv_layer_output_value[:, :, i] *= pooled_grads_value[i]\n",
    "    heatmap = np.mean(conv_layer_output_value, axis=-1)\n",
    "    heatmap = np.maximum(heatmap, 0)\n",
    "    heatmap /= np.max(heatmap)\n",
    "    img = cv2.imread(image_path)\n",
    "    img = img[0:1024][0:1024]\n",
    "    img= cv2.resize(img,(224,224),interpolation=cv2.INTER_NEAREST)\n",
    "    heatmap = cv2.resize(heatmap, (img.shape[1], img.shape[0]))\n",
    "    heatmap = np.uint8(255 * heatmap)\n",
    "    plt.imshow(heatmap)\n",
    "    cv2.imwrite(dirs1+\"/Heatmap_\"+image_code+\".jpg\", heatmap)\n",
    "    heatmap2color = cv2.applyColorMap(heatmap, cv2.COLORMAP_JET)\n",
    "    grd_CAM = cv2.addWeighted(img, 0.6, heatmap2color, 0.4, 0)\n",
    "    plt.imshow(grd_CAM)\n",
    "    cv2.imwrite(dirs1+\"/Grd-CAM_\"+image_code+\".jpg\", grd_CAM)\n",
    "    heatmap =cv2.imread(dirs1+\"/Heatmap_\"+image_code+\".jpg\")\n",
    "    guided_CAM = saliency[0].transpose(1, 2, 3, 0) * heatmap[..., np.newaxis]\n",
    "    guided_CAM = deprocess_image(guided_CAM)\n",
    "    plt.imshow(guided_CAM)\n",
    "    cv2.imwrite(dirs1+\"/Guided-CAM_\"+image_code+\".jpg\", guided_CAM)"
   ]
  },
  {
   "cell_type": "code",
   "execution_count": 33,
   "id": "95f7305a-1f82-4edc-a53b-5b34b8df4534",
   "metadata": {},
   "outputs": [
    {
     "name": "stdout",
     "output_type": "stream",
     "text": [
      "Model: \"model\"\n",
      "_________________________________________________________________\n",
      " Layer (type)                Output Shape              Param #   \n",
      "=================================================================\n",
      " input_1 (InputLayer)        [(None, 224, 224, 3)]     0         \n",
      "                                                                 \n",
      " block1_conv1 (Conv2D)       (None, 224, 224, 64)      1792      \n",
      "                                                                 \n",
      " block1_conv2 (Conv2D)       (None, 224, 224, 64)      36928     \n",
      "                                                                 \n",
      " block1_pool (MaxPooling2D)  (None, 112, 112, 64)      0         \n",
      "                                                                 \n",
      " block2_conv1 (Conv2D)       (None, 112, 112, 128)     73856     \n",
      "                                                                 \n",
      " block2_conv2 (Conv2D)       (None, 112, 112, 128)     147584    \n",
      "                                                                 \n",
      " block2_pool (MaxPooling2D)  (None, 56, 56, 128)       0         \n",
      "                                                                 \n",
      " block3_conv1 (Conv2D)       (None, 56, 56, 256)       295168    \n",
      "                                                                 \n",
      " block3_conv2 (Conv2D)       (None, 56, 56, 256)       590080    \n",
      "                                                                 \n",
      " block3_conv3 (Conv2D)       (None, 56, 56, 256)       590080    \n",
      "                                                                 \n",
      " block3_pool (MaxPooling2D)  (None, 28, 28, 256)       0         \n",
      "                                                                 \n",
      " block4_conv1 (Conv2D)       (None, 28, 28, 512)       1180160   \n",
      "                                                                 \n",
      " block4_conv2 (Conv2D)       (None, 28, 28, 512)       2359808   \n",
      "                                                                 \n",
      " block4_conv3 (Conv2D)       (None, 28, 28, 512)       2359808   \n",
      "                                                                 \n",
      " block4_pool (MaxPooling2D)  (None, 14, 14, 512)       0         \n",
      "                                                                 \n",
      " block5_conv1 (Conv2D)       (None, 14, 14, 512)       2359808   \n",
      "                                                                 \n",
      " block5_conv2 (Conv2D)       (None, 14, 14, 512)       2359808   \n",
      "                                                                 \n",
      " block5_conv3 (Conv2D)       (None, 14, 14, 512)       2359808   \n",
      "                                                                 \n",
      " block5_pool (MaxPooling2D)  (None, 7, 7, 512)         0         \n",
      "                                                                 \n",
      " sequential (Sequential)     (None, 2)                 6423298   \n",
      "                                                                 \n",
      "=================================================================\n",
      "Total params: 21,137,986\n",
      "Trainable params: 21,137,986\n",
      "Non-trainable params: 0\n",
      "_________________________________________________________________\n"
     ]
    }
   ],
   "source": [
    "model_path = os.path.join(SAVE_path, \"model.hdf5\")\n",
    "model = load_model(model_path)\n",
    "model.summary()"
   ]
  },
  {
   "cell_type": "code",
   "execution_count": 34,
   "id": "bec5a02b-1d18-4a62-a1e9-4f5e320b7c4e",
   "metadata": {},
   "outputs": [
    {
     "data": {
      "text/plain": [
       "[<keras.engine.input_layer.InputLayer at 0x7f5db4114d60>,\n",
       " <keras.layers.convolutional.conv2d.Conv2D at 0x7f5d1428cbe0>,\n",
       " <keras.layers.convolutional.conv2d.Conv2D at 0x7f5d0c67f700>,\n",
       " <keras.layers.pooling.max_pooling2d.MaxPooling2D at 0x7f5d0c686a60>,\n",
       " <keras.layers.convolutional.conv2d.Conv2D at 0x7f5d0c732250>,\n",
       " <keras.layers.convolutional.conv2d.Conv2D at 0x7f5d0c732ac0>,\n",
       " <keras.layers.pooling.max_pooling2d.MaxPooling2D at 0x7f5d0c732640>,\n",
       " <keras.layers.convolutional.conv2d.Conv2D at 0x7f5d0c69d640>,\n",
       " <keras.layers.convolutional.conv2d.Conv2D at 0x7f5d0c69d430>,\n",
       " <keras.layers.convolutional.conv2d.Conv2D at 0x7f5d0c69da60>,\n",
       " <keras.layers.pooling.max_pooling2d.MaxPooling2D at 0x7f5d0c69d610>,\n",
       " <keras.layers.convolutional.conv2d.Conv2D at 0x7f5d0c72d640>,\n",
       " <keras.layers.convolutional.conv2d.Conv2D at 0x7f5d0c72d700>,\n",
       " <keras.layers.convolutional.conv2d.Conv2D at 0x7f5d0c72dbe0>,\n",
       " <keras.layers.pooling.max_pooling2d.MaxPooling2D at 0x7f5d0c72d610>,\n",
       " <keras.layers.convolutional.conv2d.Conv2D at 0x7f5d0c68e760>,\n",
       " <keras.layers.convolutional.conv2d.Conv2D at 0x7f5d0c68e820>,\n",
       " <keras.layers.convolutional.conv2d.Conv2D at 0x7f5d0c68ed00>,\n",
       " <keras.layers.pooling.max_pooling2d.MaxPooling2D at 0x7f5d0c68e730>,\n",
       " <keras.engine.sequential.Sequential at 0x7f5dbda46160>]"
      ]
     },
     "execution_count": 34,
     "metadata": {},
     "output_type": "execute_result"
    }
   ],
   "source": [
    "model.layers"
   ]
  },
  {
   "cell_type": "code",
   "execution_count": 35,
   "id": "2402ffda-4b18-424f-a0c1-973ad78f7ad3",
   "metadata": {},
   "outputs": [
    {
     "data": {
      "text/plain": [
       "{'block1_conv1': <keras.layers.convolutional.conv2d.Conv2D at 0x7f5d1428cbe0>,\n",
       " 'block1_conv2': <keras.layers.convolutional.conv2d.Conv2D at 0x7f5d0c67f700>,\n",
       " 'block1_pool': <keras.layers.pooling.max_pooling2d.MaxPooling2D at 0x7f5d0c686a60>,\n",
       " 'block2_conv1': <keras.layers.convolutional.conv2d.Conv2D at 0x7f5d0c732250>,\n",
       " 'block2_conv2': <keras.layers.convolutional.conv2d.Conv2D at 0x7f5d0c732ac0>,\n",
       " 'block2_pool': <keras.layers.pooling.max_pooling2d.MaxPooling2D at 0x7f5d0c732640>,\n",
       " 'block3_conv1': <keras.layers.convolutional.conv2d.Conv2D at 0x7f5d0c69d640>,\n",
       " 'block3_conv2': <keras.layers.convolutional.conv2d.Conv2D at 0x7f5d0c69d430>,\n",
       " 'block3_conv3': <keras.layers.convolutional.conv2d.Conv2D at 0x7f5d0c69da60>,\n",
       " 'block3_pool': <keras.layers.pooling.max_pooling2d.MaxPooling2D at 0x7f5d0c69d610>,\n",
       " 'block4_conv1': <keras.layers.convolutional.conv2d.Conv2D at 0x7f5d0c72d640>,\n",
       " 'block4_conv2': <keras.layers.convolutional.conv2d.Conv2D at 0x7f5d0c72d700>,\n",
       " 'block4_conv3': <keras.layers.convolutional.conv2d.Conv2D at 0x7f5d0c72dbe0>,\n",
       " 'block4_pool': <keras.layers.pooling.max_pooling2d.MaxPooling2D at 0x7f5d0c72d610>,\n",
       " 'block5_conv1': <keras.layers.convolutional.conv2d.Conv2D at 0x7f5d0c68e760>,\n",
       " 'block5_conv2': <keras.layers.convolutional.conv2d.Conv2D at 0x7f5d0c68e820>,\n",
       " 'block5_conv3': <keras.layers.convolutional.conv2d.Conv2D at 0x7f5d0c68ed00>,\n",
       " 'block5_pool': <keras.layers.pooling.max_pooling2d.MaxPooling2D at 0x7f5d0c68e730>,\n",
       " 'sequential': <keras.engine.sequential.Sequential at 0x7f5dbda46160>}"
      ]
     },
     "execution_count": 35,
     "metadata": {},
     "output_type": "execute_result"
    }
   ],
   "source": [
    "layer_dict = dict([(layer.name, layer) for layer in model.layers[1:]])\n",
    "layer_dict"
   ]
  },
  {
   "cell_type": "code",
   "execution_count": 36,
   "id": "a2bf7263-8245-4425-ae85-e1e54354ba7a",
   "metadata": {},
   "outputs": [
    {
     "name": "stdout",
     "output_type": "stream",
     "text": [
      "['#21-0', '#21-1']\n",
      "['COCRMO-5VOL％C-＃21-00001.tiff', 'COCRMO-5VOL％C-＃21-00007.tiff', 'COCRMO-5VOL％C-＃21-00008.tiff', 'COCRMO-5VOL％C-＃21-00009.tiff', 'COCRMO-5VOL％C-＃21-00010.tiff', 'COCRMO-5VOL％C-＃21-00011.tiff', 'COCRMO-5VOL％C-＃21-00012.tiff', 'COCRMO-5VOL％C-＃21-00013.tiff', 'COCRMO-5VOL％C-＃21-00014.tiff', 'COCRMO-5VOL％C-＃21-00015.tiff', 'COCRMO-5VOL％C-＃21-00016.tiff', 'COCRMO-5VOL％C-＃21-00017.tiff', 'COCRMO-5VOL％C-＃21-00018.tiff', 'COCRMO-5VOL％C-＃21-00019.tiff', 'COCRMO-5VOL％C-＃21-00020.tiff', 'COCRMO-5VOL％C-＃21-00021.tiff', 'COCRMO-5VOL％C-＃21-00030.tiff', 'COCRMO-5VOL％C-＃21-00031.tiff', 'COCRMO-5VOL％C-＃21-00032.tiff', 'COCRMO-5VOL％C-＃21-00033.tiff', 'COCRMO-5VOL％C-＃21-00034.tiff', 'COCRMO-5VOL％C-＃21-00035.tiff', 'COCRMO-5VOL％C-＃21-00036.tiff', 'COCRMO-5VOL％C-＃21-00037.tiff', 'COCRMO-5VOL％C-＃21-00038.tiff', 'COCRMO-5VOL％C-＃21-00039.tiff', 'COCRMO-5VOL％C-＃21-00040.tiff', 'COCRMO-5VOL％C-＃21-00041.tiff', 'COCRMO-5VOL％C-＃21-00042.tiff', 'COCRMO-5VOL％C-＃21-00043.tiff', 'COCRMO-5VOL％C-＃21-00044.tiff', 'COCRMO-5VOL％C-＃21-00045.tiff', 'COCRMO-5VOL％C-＃21-00046.tiff', 'COCRMO-5VOL％C-＃21-00047.tiff', 'COCRMO-5VOL％C-＃21-00048.tiff', 'COCRMO-5VOL％C-＃21-00049.tiff', 'COCRMO-5VOL％C-＃21-00050.tiff', 'COCRMO-5VOL％C-＃21-00068.tiff', 'COCRMO-5VOL％C-＃21-00069.tiff', 'COCRMO-5VOL％C-＃21-00070.tiff', 'COCRMO-5VOL％C-＃21-00071.tiff', 'COCRMO-5VOL％C-＃21-00072.tiff', 'COCRMO-5VOL％C-＃21-00073.tiff', 'COCRMO-5VOL％C-＃21-00074.tiff', 'COCRMO-5VOL％C-＃21-00075.tiff', 'COCRMO-5VOL％C-＃21-00076.tiff', 'COCRMO-5VOL％C-＃21-00077.tiff', 'COCRMO-5VOL％C-＃21-00078.tiff', 'COCRMO-5VOL％C-＃21-00079.tiff', 'COCRMO-5VOL％C-＃21-00080.tiff', 'COCRMO-5VOL％C-＃21-00081.tiff', 'COCRMO-5VOL％C-＃21-00082.tiff', 'COCRMO-5VOL％C-＃21-00083.tiff', 'COCRMO-5VOL％C-＃21-00084.tiff', 'COCRMO-5VOL％C-＃21-00085.tiff', 'COCRMO-5VOL％C-＃21-00086.tiff', 'COCRMO-5VOL％C-＃21-00087.tiff', 'COCRMO-5VOL％C-＃21-00088.tiff', 'COCRMO-5VOL％C-＃21-00089.tiff', 'COCRMO-5VOL％C-＃21-00090.tiff', 'COCRMO-5VOL％C-＃21-00091.tiff', 'COCRMO-5VOL％C-＃21-00092.tiff', 'COCRMO-5VOL％C-＃21-00093.tiff', 'COCRMO-5VOL％C-＃21-00094.tiff', 'COCRMO-5VOL％C-＃21-00095.tiff', 'COCRMO-5VOL％C-＃21-00096.tiff', 'COCRMO-5VOL％C-＃21-00097.tiff', 'COCRMO-5VOL％C-＃21-00098.tiff', 'COCRMO-5VOL％C-＃21-00099.tiff', 'COCRMO-5VOL％C-＃21-00100.tiff', 'COCRMO-5VOL％C-＃21-00101.tiff', 'COCRMO-5VOL％C-＃21-00102.tiff', 'COCRMO-5VOL％C-＃21-00103.tiff', 'COCRMO-5VOL％C-＃21-00104.tiff', 'COCRMO-5VOL％C-＃21-00105.tiff', 'COCRMO-5VOL％C-＃21-00106.tiff', 'COCRMO-5VOL％C-＃21-00107.tiff', 'COCRMO-5VOL％C-＃21-00108.tiff', 'COCRMO-5VOL％C-＃21-00109.tiff', 'COCRMO-5VOL％C-＃21-00110.tiff', 'COCRMO-5VOL％C-＃21-00111.tiff', 'COCRMO-5VOL％C-＃21-00112.tiff', 'COCRMO-5VOL％C-＃21-00113.tiff', 'COCRMO-5VOL％C-＃21-00114.tiff', 'COCRMO-5VOL％C-＃21-00115.tiff', 'COCRMO-5VOL％C-＃21-00116.tiff', 'COCRMO-5VOL％C-＃21-00117.tiff', 'COCRMO-5VOL％C-＃21-00118.tiff', 'COCRMO-5VOL％C-＃21-00119.tiff', 'COCRMO-5VOL％C-＃21-00120.tiff', 'COCRMO-5VOL％C-＃21-00121.tiff', 'COCRMO-5VOL％C-＃21-00122.tiff', 'COCRMO-5VOL％C-＃21-00123.tiff', 'COCRMO-5VOL％C-＃21-00124.tiff', 'COCRMO-5VOL％C-＃21-00125.tiff', 'COCRMO-5VOL％C-＃21-00126.tiff', 'COCRMO-5VOL％C-＃21-00127.tiff', 'COCRMO-5VOL％C-＃21-00128.tiff', 'COCRMO-5VOL％C-＃21-00129.tiff', 'COCRMO-5VOL％C-＃21-00130.tiff', 'COCRMO-5VOL％C-＃21-00131.tiff', 'COCRMO-5VOL％C-＃21-00132.tiff', 'COCRMO-5VOL％C-＃21-00133.tiff', 'COCRMO-5VOL％C-＃21-00134.tiff', 'COCRMO-5VOL％C-＃21-00135.tiff', 'COCRMO-5VOL％C-＃21-00136.tiff', 'COCRMO-5VOL％C-＃21-00137.tiff', 'COCRMO-5VOL％C-＃21-00138.tiff', 'COCRMO-5VOL％C-＃21-00139.tiff', 'COCRMO-5VOL％C-＃21-00140.tiff', 'COCRMO-5VOL％C-＃21-00141.tiff', 'COCRMO-5VOL％C-＃21-00142.tiff', 'COCRMO-5VOL％C-＃21-00143.tiff', 'COCRMO-5VOL％C-＃21-00144.tiff', 'COCRMO-5VOL％C-＃21-00145.tiff', 'COCRMO-5VOL％C-＃21-00146.tiff', 'COCRMO-5VOL％C-＃21-00147.tiff', 'COCRMO-5VOL％C-＃21-00148.tiff', 'COCRMO-5VOL％C-＃21-00149.tiff', 'COCRMO-5VOL％C-＃21-00150.tiff']\n",
      "['COCRMO-5VOL％C-＃21-10001.tiff', 'COCRMO-5VOL％C-＃21-10003.tiff', 'COCRMO-5VOL％C-＃21-10005.tiff', 'COCRMO-5VOL％C-＃21-10006.tiff', 'COCRMO-5VOL％C-＃21-10007.tiff', 'COCRMO-5VOL％C-＃21-10013.tiff', 'COCRMO-5VOL％C-＃21-10014.tiff', 'COCRMO-5VOL％C-＃21-10015.tiff', 'COCRMO-5VOL％C-＃21-10016.tiff', 'COCRMO-5VOL％C-＃21-10017.tiff', 'COCRMO-5VOL％C-＃21-10018.tiff', 'COCRMO-5VOL％C-＃21-10019.tiff', 'COCRMO-5VOL％C-＃21-10020.tiff', 'COCRMO-5VOL％C-＃21-10021.tiff', 'COCRMO-5VOL％C-＃21-10022.tiff', 'COCRMO-5VOL％C-＃21-10023.tiff', 'COCRMO-5VOL％C-＃21-10024.tiff', 'COCRMO-5VOL％C-＃21-10025.tiff', 'COCRMO-5VOL％C-＃21-10026.tiff', 'COCRMO-5VOL％C-＃21-10027.tiff', 'COCRMO-5VOL％C-＃21-10028.tiff', 'COCRMO-5VOL％C-＃21-10029.tiff', 'COCRMO-5VOL％C-＃21-10030.tiff', 'COCRMO-5VOL％C-＃21-10031.tiff', 'COCRMO-5VOL％C-＃21-10032.tiff', 'COCRMO-5VOL％C-＃21-10033.tiff', 'COCRMO-5VOL％C-＃21-10038.tiff', 'COCRMO-5VOL％C-＃21-10039.tiff', 'COCRMO-5VOL％C-＃21-10040.tiff', 'COCRMO-5VOL％C-＃21-10041.tiff', 'COCRMO-5VOL％C-＃21-10051.tiff', 'COCRMO-5VOL％C-＃21-10052.tiff', 'COCRMO-5VOL％C-＃21-10053.tiff', 'COCRMO-5VOL％C-＃21-10054.tiff', 'COCRMO-5VOL％C-＃21-10055.tiff', 'COCRMO-5VOL％C-＃21-10056.tiff', 'COCRMO-5VOL％C-＃21-10057.tiff', 'COCRMO-5VOL％C-＃21-10058.tiff', 'COCRMO-5VOL％C-＃21-10059.tiff', 'COCRMO-5VOL％C-＃21-10060.tiff', 'COCRMO-5VOL％C-＃21-10061.tiff', 'COCRMO-5VOL％C-＃21-10062.tiff', 'COCRMO-5VOL％C-＃21-10063.tiff', 'COCRMO-5VOL％C-＃21-10064.tiff', 'COCRMO-5VOL％C-＃21-10065.tiff', 'COCRMO-5VOL％C-＃21-10066.tiff', 'COCRMO-5VOL％C-＃21-10067.tiff', 'COCRMO-5VOL％C-＃21-10068.tiff', 'COCRMO-5VOL％C-＃21-10069.tiff', 'COCRMO-5VOL％C-＃21-10070.tiff', 'COCRMO-5VOL％C-＃21-10071.tiff', 'COCRMO-5VOL％C-＃21-10072.tiff', 'COCRMO-5VOL％C-＃21-10073.tiff', 'COCRMO-5VOL％C-＃21-10074.tiff', 'COCRMO-5VOL％C-＃21-10075.tiff', 'COCRMO-5VOL％C-＃21-10076.tiff', 'COCRMO-5VOL％C-＃21-10077.tiff', 'COCRMO-5VOL％C-＃21-10078.tiff', 'COCRMO-5VOL％C-＃21-10079.tiff', 'COCRMO-5VOL％C-＃21-10080.tiff', 'COCRMO-5VOL％C-＃21-10081.tiff', 'COCRMO-5VOL％C-＃21-10082.tiff', 'COCRMO-5VOL％C-＃21-10083.tiff', 'COCRMO-5VOL％C-＃21-10084.tiff', 'COCRMO-5VOL％C-＃21-10085.tiff', 'COCRMO-5VOL％C-＃21-10086.tiff', 'COCRMO-5VOL％C-＃21-10087.tiff', 'COCRMO-5VOL％C-＃21-10088.tiff', 'COCRMO-5VOL％C-＃21-10089.tiff', 'COCRMO-5VOL％C-＃21-10090.tiff', 'COCRMO-5VOL％C-＃21-10091.tiff', 'COCRMO-5VOL％C-＃21-10092.tiff', 'COCRMO-5VOL％C-＃21-10093.tiff', 'COCRMO-5VOL％C-＃21-10094.tiff', 'COCRMO-5VOL％C-＃21-10095.tiff', 'COCRMO-5VOL％C-＃21-10096.tiff', 'COCRMO-5VOL％C-＃21-10097.tiff', 'COCRMO-5VOL％C-＃21-10098.tiff', 'COCRMO-5VOL％C-＃21-10099.tiff', 'COCRMO-5VOL％C-＃21-10100.tiff', 'COCRMO-5VOL％C-＃21-10101.tiff', 'COCRMO-5VOL％C-＃21-10102.tiff', 'COCRMO-5VOL％C-＃21-10103.tiff', 'COCRMO-5VOL％C-＃21-10104.tiff', 'COCRMO-5VOL％C-＃21-10105.tiff', 'COCRMO-5VOL％C-＃21-10106.tiff', 'COCRMO-5VOL％C-＃21-10107.tiff']\n"
     ]
    }
   ],
   "source": [
    "def load_image_list(dataset_path):\n",
    "  img_path_list = []\n",
    "  category_names = os.listdir(dataset_path)\n",
    "  category_names.sort()\n",
    "  print(category_names)\n",
    "  category_nums = len(category_names)\n",
    "  images = []\n",
    "  for category in category_names:\n",
    "    category_path = os.path.join(dataset_path, category)\n",
    "    file_names = os.listdir(category_path)\n",
    "    file_names.sort()\n",
    "    print(file_names)\n",
    "    file_nums = len(file_names)  \n",
    "    for file in (file_names):\n",
    "      img_path = os.path.join(category_path, file)\n",
    "      img_path_list.append(img_path)\n",
    "  return img_path_list\n",
    " \n",
    "image_path_list = load_image_list(os.path.join(PROJECT_path, \"datasets/IMAGE\"))"
   ]
  },
  {
   "cell_type": "code",
   "execution_count": 37,
   "id": "ff451d04-2da9-41d9-935d-a53fb47c21c2",
   "metadata": {},
   "outputs": [],
   "source": [
    "cam_folder = os.path.join(SAVE_path, \"classification_cam_visual\")\n",
    "\n",
    "if not os.path.exists(cam_folder):\n",
    "    os.makedirs(cam_folder)"
   ]
  },
  {
   "cell_type": "code",
   "execution_count": 38,
   "id": "e87be3e3-1336-4998-9442-8065ea885195",
   "metadata": {},
   "outputs": [
    {
     "name": "stdout",
     "output_type": "stream",
     "text": [
      "> 0/root/IDB_3d_printing/datasets/IMAGE/#21-0/COCRMO-5VOL％C-＃21-00001.tiff\n",
      "0\n"
     ]
    },
    {
     "name": "stderr",
     "output_type": "stream",
     "text": [
      "/tmp/ipykernel_936/875422284.py:84: RuntimeWarning: invalid value encountered in divide\n",
      "  heatmap /= np.max(heatmap)\n"
     ]
    },
    {
     "name": "stdout",
     "output_type": "stream",
     "text": [
      "> 1/root/IDB_3d_printing/datasets/IMAGE/#21-0/COCRMO-5VOL％C-＃21-00007.tiff\n",
      "0\n",
      "> 2/root/IDB_3d_printing/datasets/IMAGE/#21-0/COCRMO-5VOL％C-＃21-00008.tiff\n",
      "0\n",
      "> 3/root/IDB_3d_printing/datasets/IMAGE/#21-0/COCRMO-5VOL％C-＃21-00009.tiff\n",
      "0\n",
      "> 4/root/IDB_3d_printing/datasets/IMAGE/#21-0/COCRMO-5VOL％C-＃21-00010.tiff\n",
      "0\n",
      "> 5/root/IDB_3d_printing/datasets/IMAGE/#21-0/COCRMO-5VOL％C-＃21-00011.tiff\n",
      "0\n",
      "> 6/root/IDB_3d_printing/datasets/IMAGE/#21-0/COCRMO-5VOL％C-＃21-00012.tiff\n",
      "0\n",
      "> 7/root/IDB_3d_printing/datasets/IMAGE/#21-0/COCRMO-5VOL％C-＃21-00013.tiff\n",
      "0\n",
      "> 8/root/IDB_3d_printing/datasets/IMAGE/#21-0/COCRMO-5VOL％C-＃21-00014.tiff\n",
      "0\n",
      "> 9/root/IDB_3d_printing/datasets/IMAGE/#21-0/COCRMO-5VOL％C-＃21-00015.tiff\n",
      "0\n",
      "> 10/root/IDB_3d_printing/datasets/IMAGE/#21-0/COCRMO-5VOL％C-＃21-00016.tiff\n",
      "0\n",
      "> 11/root/IDB_3d_printing/datasets/IMAGE/#21-0/COCRMO-5VOL％C-＃21-00017.tiff\n",
      "0\n",
      "> 12/root/IDB_3d_printing/datasets/IMAGE/#21-0/COCRMO-5VOL％C-＃21-00018.tiff\n",
      "0\n",
      "> 13/root/IDB_3d_printing/datasets/IMAGE/#21-0/COCRMO-5VOL％C-＃21-00019.tiff\n",
      "0\n",
      "> 14/root/IDB_3d_printing/datasets/IMAGE/#21-0/COCRMO-5VOL％C-＃21-00020.tiff\n",
      "0\n",
      "> 15/root/IDB_3d_printing/datasets/IMAGE/#21-0/COCRMO-5VOL％C-＃21-00021.tiff\n",
      "0\n",
      "> 16/root/IDB_3d_printing/datasets/IMAGE/#21-0/COCRMO-5VOL％C-＃21-00030.tiff\n"
     ]
    },
    {
     "ename": "KeyboardInterrupt",
     "evalue": "",
     "output_type": "error",
     "traceback": [
      "\u001b[0;31m---------------------------------------------------------------------------\u001b[0m",
      "\u001b[0;31mKeyboardInterrupt\u001b[0m                         Traceback (most recent call last)",
      "Input \u001b[0;32mIn [38]\u001b[0m, in \u001b[0;36m<cell line: 1>\u001b[0;34m()\u001b[0m\n\u001b[1;32m      3\u001b[0m image_path \u001b[38;5;241m=\u001b[39m image_path_list[n]\n\u001b[1;32m      4\u001b[0m image_code \u001b[38;5;241m=\u001b[39m \u001b[38;5;28mstr\u001b[39m(n)\n\u001b[0;32m----> 5\u001b[0m \u001b[43mdoCAM\u001b[49m\u001b[43m(\u001b[49m\u001b[43mimage_path\u001b[49m\u001b[43m,\u001b[49m\u001b[43m \u001b[49m\u001b[43mimage_code\u001b[49m\u001b[43m,\u001b[49m\u001b[43m \u001b[49m\u001b[43mcam_folder\u001b[49m\u001b[43m)\u001b[49m\n",
      "Input \u001b[0;32mIn [32]\u001b[0m, in \u001b[0;36mdoCAM\u001b[0;34m(image_path, image_code, dirs1)\u001b[0m\n\u001b[1;32m     62\u001b[0m register_gradient()\n\u001b[1;32m     63\u001b[0m guided_model \u001b[38;5;241m=\u001b[39m modify_backprop(model, \u001b[38;5;124m'\u001b[39m\u001b[38;5;124mGuidedBackProp\u001b[39m\u001b[38;5;124m'\u001b[39m)\n\u001b[0;32m---> 64\u001b[0m saliency_fn \u001b[38;5;241m=\u001b[39m \u001b[43mcompile_saliency_function\u001b[49m\u001b[43m(\u001b[49m\u001b[43mguided_model\u001b[49m\u001b[43m)\u001b[49m\n\u001b[1;32m     65\u001b[0m saliency \u001b[38;5;241m=\u001b[39m saliency_fn([preprocessed_input, \u001b[38;5;241m0\u001b[39m])\n\u001b[1;32m     66\u001b[0m gradcam \u001b[38;5;241m=\u001b[39m saliency[\u001b[38;5;241m0\u001b[39m]\u001b[38;5;241m.\u001b[39mtranspose(\u001b[38;5;241m1\u001b[39m, \u001b[38;5;241m2\u001b[39m, \u001b[38;5;241m3\u001b[39m, \u001b[38;5;241m0\u001b[39m)\n",
      "Input \u001b[0;32mIn [32]\u001b[0m, in \u001b[0;36mcompile_saliency_function\u001b[0;34m(model, activation_layer)\u001b[0m\n\u001b[1;32m     11\u001b[0m layer_output \u001b[38;5;241m=\u001b[39m layer_dict[activation_layer]\u001b[38;5;241m.\u001b[39moutput\n\u001b[1;32m     12\u001b[0m max_output \u001b[38;5;241m=\u001b[39m K\u001b[38;5;241m.\u001b[39mmax(layer_output, axis\u001b[38;5;241m=\u001b[39m\u001b[38;5;241m3\u001b[39m)\n\u001b[0;32m---> 13\u001b[0m saliency \u001b[38;5;241m=\u001b[39m \u001b[43mK\u001b[49m\u001b[38;5;241;43m.\u001b[39;49m\u001b[43mgradients\u001b[49m\u001b[43m(\u001b[49m\u001b[43mK\u001b[49m\u001b[38;5;241;43m.\u001b[39;49m\u001b[43msum\u001b[49m\u001b[43m(\u001b[49m\u001b[43mmax_output\u001b[49m\u001b[43m)\u001b[49m\u001b[43m,\u001b[49m\u001b[43m \u001b[49m\u001b[43minput_img\u001b[49m\u001b[43m)\u001b[49m[\u001b[38;5;241m0\u001b[39m]\n\u001b[1;32m     14\u001b[0m \u001b[38;5;28;01mreturn\u001b[39;00m K\u001b[38;5;241m.\u001b[39mfunction([input_img, K\u001b[38;5;241m.\u001b[39mlearning_phase()], [saliency])\n",
      "File \u001b[0;32m~/miniconda3/lib/python3.8/site-packages/keras/backend.py:4361\u001b[0m, in \u001b[0;36mgradients\u001b[0;34m(loss, variables)\u001b[0m\n\u001b[1;32m   4349\u001b[0m \u001b[38;5;129m@keras_export\u001b[39m(\u001b[38;5;124m'\u001b[39m\u001b[38;5;124mkeras.backend.gradients\u001b[39m\u001b[38;5;124m'\u001b[39m)\n\u001b[1;32m   4350\u001b[0m \u001b[38;5;129m@doc_controls\u001b[39m\u001b[38;5;241m.\u001b[39mdo_not_generate_docs\n\u001b[1;32m   4351\u001b[0m \u001b[38;5;28;01mdef\u001b[39;00m \u001b[38;5;21mgradients\u001b[39m(loss, variables):\n\u001b[1;32m   4352\u001b[0m   \u001b[38;5;124;03m\"\"\"Returns the gradients of `loss` w.r.t. `variables`.\u001b[39;00m\n\u001b[1;32m   4353\u001b[0m \n\u001b[1;32m   4354\u001b[0m \u001b[38;5;124;03m  Args:\u001b[39;00m\n\u001b[0;32m   (...)\u001b[0m\n\u001b[1;32m   4359\u001b[0m \u001b[38;5;124;03m      A gradients tensor.\u001b[39;00m\n\u001b[1;32m   4360\u001b[0m \u001b[38;5;124;03m  \"\"\"\u001b[39;00m\n\u001b[0;32m-> 4361\u001b[0m   \u001b[38;5;28;01mreturn\u001b[39;00m \u001b[43mtf\u001b[49m\u001b[38;5;241;43m.\u001b[39;49m\u001b[43mcompat\u001b[49m\u001b[38;5;241;43m.\u001b[39;49m\u001b[43mv1\u001b[49m\u001b[38;5;241;43m.\u001b[39;49m\u001b[43mgradients\u001b[49m\u001b[43m(\u001b[49m\n\u001b[1;32m   4362\u001b[0m \u001b[43m      \u001b[49m\u001b[43mloss\u001b[49m\u001b[43m,\u001b[49m\u001b[43m \u001b[49m\u001b[43mvariables\u001b[49m\u001b[43m,\u001b[49m\u001b[43m \u001b[49m\u001b[43mcolocate_gradients_with_ops\u001b[49m\u001b[38;5;241;43m=\u001b[39;49m\u001b[38;5;28;43;01mTrue\u001b[39;49;00m\u001b[43m)\u001b[49m\n",
      "File \u001b[0;32m~/miniconda3/lib/python3.8/site-packages/tensorflow/python/ops/gradients_impl.py:165\u001b[0m, in \u001b[0;36mgradients\u001b[0;34m(ys, xs, grad_ys, name, colocate_gradients_with_ops, gate_gradients, aggregation_method, stop_gradients, unconnected_gradients)\u001b[0m\n\u001b[1;32m    160\u001b[0m \u001b[38;5;66;03m# Creating the gradient graph for control flow mutates Operations.\u001b[39;00m\n\u001b[1;32m    161\u001b[0m \u001b[38;5;66;03m# _mutation_lock ensures a Session.run call cannot occur between creating and\u001b[39;00m\n\u001b[1;32m    162\u001b[0m \u001b[38;5;66;03m# mutating new ops.\u001b[39;00m\n\u001b[1;32m    163\u001b[0m \u001b[38;5;66;03m# pylint: disable=protected-access\u001b[39;00m\n\u001b[1;32m    164\u001b[0m \u001b[38;5;28;01mwith\u001b[39;00m ops\u001b[38;5;241m.\u001b[39mget_default_graph()\u001b[38;5;241m.\u001b[39m_mutation_lock():\n\u001b[0;32m--> 165\u001b[0m   \u001b[38;5;28;01mreturn\u001b[39;00m \u001b[43mgradients_util\u001b[49m\u001b[38;5;241;43m.\u001b[39;49m\u001b[43m_GradientsHelper\u001b[49m\u001b[43m(\u001b[49m\n\u001b[1;32m    166\u001b[0m \u001b[43m      \u001b[49m\u001b[43mys\u001b[49m\u001b[43m,\u001b[49m\u001b[43m \u001b[49m\u001b[43mxs\u001b[49m\u001b[43m,\u001b[49m\u001b[43m \u001b[49m\u001b[43mgrad_ys\u001b[49m\u001b[43m,\u001b[49m\u001b[43m \u001b[49m\u001b[43mname\u001b[49m\u001b[43m,\u001b[49m\u001b[43m \u001b[49m\u001b[43mcolocate_gradients_with_ops\u001b[49m\u001b[43m,\u001b[49m\n\u001b[1;32m    167\u001b[0m \u001b[43m      \u001b[49m\u001b[43mgate_gradients\u001b[49m\u001b[43m,\u001b[49m\u001b[43m \u001b[49m\u001b[43maggregation_method\u001b[49m\u001b[43m,\u001b[49m\u001b[43m \u001b[49m\u001b[43mstop_gradients\u001b[49m\u001b[43m,\u001b[49m\n\u001b[1;32m    168\u001b[0m \u001b[43m      \u001b[49m\u001b[43munconnected_gradients\u001b[49m\u001b[43m)\u001b[49m\n",
      "File \u001b[0;32m~/miniconda3/lib/python3.8/site-packages/tensorflow/python/ops/gradients_util.py:695\u001b[0m, in \u001b[0;36m_GradientsHelper\u001b[0;34m(ys, xs, grad_ys, name, colocate_gradients_with_ops, gate_gradients, aggregation_method, stop_gradients, unconnected_gradients, src_graph)\u001b[0m\n\u001b[1;32m    690\u001b[0m \u001b[38;5;28;01mwith\u001b[39;00m src_graph\u001b[38;5;241m.\u001b[39m_original_op(op):\n\u001b[1;32m    691\u001b[0m   \u001b[38;5;66;03m# pylint: enable=protected-access\u001b[39;00m\n\u001b[1;32m    692\u001b[0m   \u001b[38;5;28;01mif\u001b[39;00m grad_fn:\n\u001b[1;32m    693\u001b[0m     \u001b[38;5;66;03m# If grad_fn was found, do not use SymbolicGradient even for\u001b[39;00m\n\u001b[1;32m    694\u001b[0m     \u001b[38;5;66;03m# functions.\u001b[39;00m\n\u001b[0;32m--> 695\u001b[0m     in_grads \u001b[38;5;241m=\u001b[39m \u001b[43m_MaybeCompile\u001b[49m\u001b[43m(\u001b[49m\u001b[43mgrad_scope\u001b[49m\u001b[43m,\u001b[49m\u001b[43m \u001b[49m\u001b[43mop\u001b[49m\u001b[43m,\u001b[49m\u001b[43m \u001b[49m\u001b[43mfunc_call\u001b[49m\u001b[43m,\u001b[49m\n\u001b[1;32m    696\u001b[0m \u001b[43m                             \u001b[49m\u001b[38;5;28;43;01mlambda\u001b[39;49;00m\u001b[43m:\u001b[49m\u001b[43m \u001b[49m\u001b[43mgrad_fn\u001b[49m\u001b[43m(\u001b[49m\u001b[43mop\u001b[49m\u001b[43m,\u001b[49m\u001b[43m \u001b[49m\u001b[38;5;241;43m*\u001b[39;49m\u001b[43mout_grads\u001b[49m\u001b[43m)\u001b[49m\u001b[43m)\u001b[49m\n\u001b[1;32m    697\u001b[0m   \u001b[38;5;28;01melse\u001b[39;00m:\n\u001b[1;32m    698\u001b[0m     \u001b[38;5;66;03m# For function call ops, we add a 'SymbolicGradient'\u001b[39;00m\n\u001b[1;32m    699\u001b[0m     \u001b[38;5;66;03m# node to the graph to compute gradients.\u001b[39;00m\n\u001b[1;32m    700\u001b[0m     in_grads \u001b[38;5;241m=\u001b[39m _MaybeCompile(grad_scope, op, func_call,\n\u001b[1;32m    701\u001b[0m                              \u001b[38;5;28;01mlambda\u001b[39;00m: _SymGrad(op, out_grads))\n",
      "File \u001b[0;32m~/miniconda3/lib/python3.8/site-packages/tensorflow/python/ops/gradients_util.py:328\u001b[0m, in \u001b[0;36m_MaybeCompile\u001b[0;34m(scope, op, func, grad_fn)\u001b[0m\n\u001b[1;32m    325\u001b[0m     xla_compile \u001b[38;5;241m=\u001b[39m \u001b[38;5;28;01mFalse\u001b[39;00m\n\u001b[1;32m    327\u001b[0m \u001b[38;5;28;01mif\u001b[39;00m \u001b[38;5;129;01mnot\u001b[39;00m xla_compile:\n\u001b[0;32m--> 328\u001b[0m   \u001b[38;5;28;01mreturn\u001b[39;00m \u001b[43mgrad_fn\u001b[49m\u001b[43m(\u001b[49m\u001b[43m)\u001b[49m  \u001b[38;5;66;03m# Exit early\u001b[39;00m\n\u001b[1;32m    330\u001b[0m \u001b[38;5;66;03m# If the gradients are supposed to be compiled separately, we give them a\u001b[39;00m\n\u001b[1;32m    331\u001b[0m \u001b[38;5;66;03m# _XlaScope name that is based on the name_scope of the gradients.  Otherwise\u001b[39;00m\n\u001b[1;32m    332\u001b[0m \u001b[38;5;66;03m# they just inherit the existing _XlaScope name, which lets them be merged\u001b[39;00m\n\u001b[1;32m    333\u001b[0m \u001b[38;5;66;03m# together with the non-gradient computation.\u001b[39;00m\n\u001b[1;32m    334\u001b[0m \u001b[38;5;28;01mif\u001b[39;00m xla_separate_compiled_gradients:\n",
      "File \u001b[0;32m~/miniconda3/lib/python3.8/site-packages/tensorflow/python/ops/gradients_util.py:696\u001b[0m, in \u001b[0;36m_GradientsHelper.<locals>.<lambda>\u001b[0;34m()\u001b[0m\n\u001b[1;32m    690\u001b[0m \u001b[38;5;28;01mwith\u001b[39;00m src_graph\u001b[38;5;241m.\u001b[39m_original_op(op):\n\u001b[1;32m    691\u001b[0m   \u001b[38;5;66;03m# pylint: enable=protected-access\u001b[39;00m\n\u001b[1;32m    692\u001b[0m   \u001b[38;5;28;01mif\u001b[39;00m grad_fn:\n\u001b[1;32m    693\u001b[0m     \u001b[38;5;66;03m# If grad_fn was found, do not use SymbolicGradient even for\u001b[39;00m\n\u001b[1;32m    694\u001b[0m     \u001b[38;5;66;03m# functions.\u001b[39;00m\n\u001b[1;32m    695\u001b[0m     in_grads \u001b[38;5;241m=\u001b[39m _MaybeCompile(grad_scope, op, func_call,\n\u001b[0;32m--> 696\u001b[0m                              \u001b[38;5;28;01mlambda\u001b[39;00m: \u001b[43mgrad_fn\u001b[49m\u001b[43m(\u001b[49m\u001b[43mop\u001b[49m\u001b[43m,\u001b[49m\u001b[43m \u001b[49m\u001b[38;5;241;43m*\u001b[39;49m\u001b[43mout_grads\u001b[49m\u001b[43m)\u001b[49m)\n\u001b[1;32m    697\u001b[0m   \u001b[38;5;28;01melse\u001b[39;00m:\n\u001b[1;32m    698\u001b[0m     \u001b[38;5;66;03m# For function call ops, we add a 'SymbolicGradient'\u001b[39;00m\n\u001b[1;32m    699\u001b[0m     \u001b[38;5;66;03m# node to the graph to compute gradients.\u001b[39;00m\n\u001b[1;32m    700\u001b[0m     in_grads \u001b[38;5;241m=\u001b[39m _MaybeCompile(grad_scope, op, func_call,\n\u001b[1;32m    701\u001b[0m                              \u001b[38;5;28;01mlambda\u001b[39;00m: _SymGrad(op, out_grads))\n",
      "Input \u001b[0;32mIn [25]\u001b[0m, in \u001b[0;36mregister_gradient.<locals>._GuidedBackProp\u001b[0;34m(op, grad)\u001b[0m\n\u001b[1;32m      3\u001b[0m \u001b[38;5;129m@ops\u001b[39m\u001b[38;5;241m.\u001b[39mRegisterGradient(\u001b[38;5;124m\"\u001b[39m\u001b[38;5;124mGuidedBackProp\u001b[39m\u001b[38;5;124m\"\u001b[39m)\n\u001b[1;32m      4\u001b[0m \u001b[38;5;28;01mdef\u001b[39;00m \u001b[38;5;21m_GuidedBackProp\u001b[39m(op, grad):\n\u001b[1;32m      5\u001b[0m     dtype \u001b[38;5;241m=\u001b[39m op\u001b[38;5;241m.\u001b[39minputs[\u001b[38;5;241m0\u001b[39m]\u001b[38;5;241m.\u001b[39mdtype\n\u001b[0;32m----> 6\u001b[0m     \u001b[38;5;28;01mreturn\u001b[39;00m grad \u001b[38;5;241m*\u001b[39m tf\u001b[38;5;241m.\u001b[39mcast(grad \u001b[38;5;241m>\u001b[39m \u001b[38;5;241m0.\u001b[39m, dtype) \u001b[38;5;241m*\u001b[39m tf\u001b[38;5;241m.\u001b[39mcast(\u001b[43mop\u001b[49m\u001b[38;5;241;43m.\u001b[39;49m\u001b[43minputs\u001b[49m\u001b[43m[\u001b[49m\u001b[38;5;241;43m0\u001b[39;49m\u001b[43m]\u001b[49m\u001b[43m \u001b[49m\u001b[38;5;241;43m>\u001b[39;49m\u001b[43m \u001b[49m\u001b[38;5;241;43m0.\u001b[39;49m, dtype)\n",
      "File \u001b[0;32m~/miniconda3/lib/python3.8/site-packages/tensorflow/python/ops/math_ops.py:1874\u001b[0m, in \u001b[0;36m_promote_dtypes_decorator.<locals>.wrapper\u001b[0;34m(x, y, *args, **kwargs)\u001b[0m\n\u001b[1;32m   1872\u001b[0m \u001b[38;5;28;01mdef\u001b[39;00m \u001b[38;5;21mwrapper\u001b[39m(x, y, \u001b[38;5;241m*\u001b[39margs, \u001b[38;5;241m*\u001b[39m\u001b[38;5;241m*\u001b[39mkwargs):\n\u001b[1;32m   1873\u001b[0m   x, y \u001b[38;5;241m=\u001b[39m maybe_promote_tensors(x, y)\n\u001b[0;32m-> 1874\u001b[0m   \u001b[38;5;28;01mreturn\u001b[39;00m \u001b[43mfn\u001b[49m\u001b[43m(\u001b[49m\u001b[43mx\u001b[49m\u001b[43m,\u001b[49m\u001b[43m \u001b[49m\u001b[43my\u001b[49m\u001b[43m,\u001b[49m\u001b[43m \u001b[49m\u001b[38;5;241;43m*\u001b[39;49m\u001b[43margs\u001b[49m\u001b[43m,\u001b[49m\u001b[43m \u001b[49m\u001b[38;5;241;43m*\u001b[39;49m\u001b[38;5;241;43m*\u001b[39;49m\u001b[43mkwargs\u001b[49m\u001b[43m)\u001b[49m\n",
      "File \u001b[0;32m~/miniconda3/lib/python3.8/site-packages/tensorflow/python/ops/gen_math_ops.py:4128\u001b[0m, in \u001b[0;36mgreater\u001b[0;34m(x, y, name)\u001b[0m\n\u001b[1;32m   4126\u001b[0m \u001b[38;5;66;03m# Add nodes to the TensorFlow graph.\u001b[39;00m\n\u001b[1;32m   4127\u001b[0m \u001b[38;5;28;01mtry\u001b[39;00m:\n\u001b[0;32m-> 4128\u001b[0m   _, _, _op, _outputs \u001b[38;5;241m=\u001b[39m \u001b[43m_op_def_library\u001b[49m\u001b[38;5;241;43m.\u001b[39;49m\u001b[43m_apply_op_helper\u001b[49m\u001b[43m(\u001b[49m\n\u001b[1;32m   4129\u001b[0m \u001b[43m      \u001b[49m\u001b[38;5;124;43m\"\u001b[39;49m\u001b[38;5;124;43mGreater\u001b[39;49m\u001b[38;5;124;43m\"\u001b[39;49m\u001b[43m,\u001b[49m\u001b[43m \u001b[49m\u001b[43mx\u001b[49m\u001b[38;5;241;43m=\u001b[39;49m\u001b[43mx\u001b[49m\u001b[43m,\u001b[49m\u001b[43m \u001b[49m\u001b[43my\u001b[49m\u001b[38;5;241;43m=\u001b[39;49m\u001b[43my\u001b[49m\u001b[43m,\u001b[49m\u001b[43m \u001b[49m\u001b[43mname\u001b[49m\u001b[38;5;241;43m=\u001b[39;49m\u001b[43mname\u001b[49m\u001b[43m)\u001b[49m\n\u001b[1;32m   4130\u001b[0m \u001b[38;5;28;01mexcept\u001b[39;00m (\u001b[38;5;167;01mTypeError\u001b[39;00m, \u001b[38;5;167;01mValueError\u001b[39;00m):\n\u001b[1;32m   4131\u001b[0m   _result \u001b[38;5;241m=\u001b[39m _dispatch\u001b[38;5;241m.\u001b[39mdispatch(\n\u001b[1;32m   4132\u001b[0m         greater, (), \u001b[38;5;28mdict\u001b[39m(x\u001b[38;5;241m=\u001b[39mx, y\u001b[38;5;241m=\u001b[39my, name\u001b[38;5;241m=\u001b[39mname)\n\u001b[1;32m   4133\u001b[0m       )\n",
      "\u001b[0;31mKeyboardInterrupt\u001b[0m: "
     ]
    },
    {
     "data": {
      "image/png": "[encoded data removed]",
      "text/plain": [
       "<Figure size 432x288 with 1 Axes>"
      ]
     },
     "metadata": {
      "needs_background": "light"
     },
     "output_type": "display_data"
    }
   ],
   "source": [
    "for n in range(0,len(image_path_list)):\n",
    "    print(\"> \"+str(n)+str(image_path_list[n]))\n",
    "    image_path = image_path_list[n]\n",
    "    image_code = str(n)\n",
    "    doCAM(image_path, image_code, cam_folder)"
   ]
  },
  {
   "cell_type": "code",
   "execution_count": null,
   "id": "e30a12ae-b694-477c-a60f-cf84b7baa6a7",
   "metadata": {},
   "outputs": [],
   "source": []
  },
  {
   "cell_type": "code",
   "execution_count": null,
   "id": "d10c573a-1aaf-4705-bcf1-1b3fab1c1bc7",
   "metadata": {},
   "outputs": [],
   "source": []
  },
  {
   "cell_type": "code",
   "execution_count": null,
   "id": "fb89e98b-567b-4281-be4d-dba1873e998a",
   "metadata": {},
   "outputs": [],
   "source": []
  },
  {
   "cell_type": "code",
   "execution_count": null,
   "id": "8ae9261d-1408-4012-8eb9-8b72ef95ebdf",
   "metadata": {},
   "outputs": [],
   "source": []
  },
  {
   "cell_type": "code",
   "execution_count": null,
   "id": "0e82d0e8-1f82-4a0e-bab7-ed350c145080",
   "metadata": {},
   "outputs": [],
   "source": []
  },
  {
   "cell_type": "code",
   "execution_count": null,
   "id": "8801f762-cc86-4dcc-b07f-4b052a17caf3",
   "metadata": {},
   "outputs": [],
   "source": []
  },
  {
   "cell_type": "code",
   "execution_count": null,
   "id": "c7498734-23ff-48bb-ad4d-71c6432268b0",
   "metadata": {},
   "outputs": [],
   "source": []
  },
  {
   "cell_type": "code",
   "execution_count": null,
   "id": "8d980ab8-f17a-49cc-a58d-a68f94648ec2",
   "metadata": {},
   "outputs": [],
   "source": []
  }
 ],
 "metadata": {
  "kernelspec": {
   "display_name": "Python 3 (ipykernel)",
   "language": "python",
   "name": "python3"
  },
  "language_info": {
   "codemirror_mode": {
    "name": "ipython",
    "version": 3
   },
   "file_extension": ".py",
   "mimetype": "text/x-python",
   "name": "python",
   "nbconvert_exporter": "python",
   "pygments_lexer": "ipython3",
   "version": "3.8.10"
  }
 },
 "nbformat": 4,
 "nbformat_minor": 5
}
